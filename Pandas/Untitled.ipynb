{
 "cells": [
  {
   "cell_type": "code",
   "execution_count": 1,
   "id": "b18f6ff7",
   "metadata": {},
   "outputs": [
    {
     "name": "stdout",
     "output_type": "stream",
     "text": [
      "0    g\n",
      "1    e\n",
      "2    e\n",
      "3    k\n",
      "4    s\n",
      "dtype: object\n"
     ]
    }
   ],
   "source": [
    "# import pandas as pd\n",
    "import pandas as pd\n",
    " \n",
    "# import numpy as np\n",
    "import numpy as np\n",
    " \n",
    "# simple array\n",
    "data = np.array(['g','e','e','k','s'])\n",
    " \n",
    "ser = pd.Series(data)\n",
    "print(ser)"
   ]
  },
  {
   "cell_type": "code",
   "execution_count": 2,
   "id": "543495d7",
   "metadata": {},
   "outputs": [
    {
     "name": "stdout",
     "output_type": "stream",
     "text": [
      "0    g\n",
      "1    e\n",
      "2    e\n",
      "3    k\n",
      "4    s\n",
      "dtype: object\n"
     ]
    }
   ],
   "source": [
    "# import pandas as pd\n",
    "import pandas as pd\n",
    " \n",
    "# simple array\n",
    "data = ['g','e','e','k','s']\n",
    " \n",
    "ser = pd.Series(data)\n",
    "print(ser)"
   ]
  },
  {
   "cell_type": "code",
   "execution_count": 6,
   "id": "ab1dec34",
   "metadata": {},
   "outputs": [
    {
     "name": "stdout",
     "output_type": "stream",
     "text": [
      "0     g\n",
      "1     e\n",
      "2     e\n",
      "3     k\n",
      "4     s\n",
      "5     f\n",
      "6     o\n",
      "7     r\n",
      "8     g\n",
      "9     e\n",
      "10    e\n",
      "11    k\n",
      "12    s\n",
      "dtype: object\n",
      "0    g\n",
      "1    e\n",
      "2    e\n",
      "3    k\n",
      "4    s\n",
      "dtype: object\n"
     ]
    }
   ],
   "source": [
    "# creating simple array\n",
    "data = np.array(['g','e','e','k','s','f', 'o','r','g','e','e','k','s'])\n",
    "ser = pd.Series(data)\n",
    "  \n",
    "print(ser)\n",
    "#retrieve the first 5 element\n",
    "print(ser[0:5])"
   ]
  },
  {
   "cell_type": "code",
   "execution_count": 7,
   "id": "e7cf9b5f",
   "metadata": {},
   "outputs": [
    {
     "name": "stdout",
     "output_type": "stream",
     "text": [
      "o\n"
     ]
    }
   ],
   "source": [
    "# creating simple array\n",
    "data = np.array(['g','e','e','k','s','f', 'o','r','g','e','e','k','s'])\n",
    "ser = pd.Series(data,index=[10,11,12,13,14,15,16,17,18,19,20,21,22])\n",
    "  \n",
    "  \n",
    "# accessing a element using index element\n",
    "print(ser[16])"
   ]
  },
  {
   "cell_type": "code",
   "execution_count": 19,
   "id": "9d1a7de7",
   "metadata": {},
   "outputs": [
    {
     "name": "stdout",
     "output_type": "stream",
     "text": [
      "  Name  age\n",
      "0    a   12\n",
      "1    b   14\n",
      "2    c   15\n",
      "3    d   16\n",
      "Value of index\n",
      "0    a\n",
      "1    b\n",
      "Name: Name, dtype: object\n",
      "1    b\n",
      "2    c\n",
      "3    d\n",
      "Name: Name, dtype: object\n"
     ]
    }
   ],
   "source": [
    "# making data frame  \n",
    "df = pd.DataFrame({'Name':['a', 'b', 'c', 'd'], 'age': [12, 14, 15, 16]})\n",
    "\n",
    "print(df)\n",
    "ser = pd.Series(df['Name']) \n",
    "data = ser.head(10)\n",
    "data \n",
    "# Selecting based on index value\n",
    "print(\"Value of index\")\n",
    "print(ser[:2])\n",
    "\n",
    "# Selecting based on iloc\n",
    "print(ser.iloc[1:6])"
   ]
  },
  {
   "cell_type": "code",
   "execution_count": 20,
   "id": "b0c66f3d",
   "metadata": {},
   "outputs": [
    {
     "name": "stdout",
     "output_type": "stream",
     "text": [
      "a    5\n",
      "b    2\n",
      "c    3\n",
      "d    7\n",
      "dtype: int64 \n",
      "\n",
      " a    1\n",
      "b    6\n",
      "d    4\n",
      "e    9\n",
      "dtype: int64\n"
     ]
    }
   ],
   "source": [
    "# creating a series\n",
    "data = pd.Series([5, 2, 3,7], index=['a', 'b', 'c', 'd'])\n",
    " \n",
    "# creating a series\n",
    "data1 = pd.Series([1, 6, 4, 9], index=['a', 'b', 'd', 'e'])\n",
    " \n",
    "print(data, \"\\n\\n\", data1)"
   ]
  },
  {
   "cell_type": "code",
   "execution_count": 21,
   "id": "a5438251",
   "metadata": {},
   "outputs": [
    {
     "data": {
      "text/plain": [
       "a    4.0\n",
       "b   -4.0\n",
       "c    3.0\n",
       "d    3.0\n",
       "e   -9.0\n",
       "dtype: float64"
      ]
     },
     "execution_count": 21,
     "metadata": {},
     "output_type": "execute_result"
    }
   ],
   "source": [
    "# subtracting two series using\n",
    "# .sub\n",
    "data.sub(data1, fill_value=0)"
   ]
  },
  {
   "cell_type": "code",
   "execution_count": 32,
   "id": "a552fe71",
   "metadata": {},
   "outputs": [
    {
     "name": "stdout",
     "output_type": "stream",
     "text": [
      "0    1\n",
      "1    2\n",
      "2    3\n",
      "3    4\n",
      "Name: age, dtype: int64\n",
      "0    1\n",
      "1    2\n",
      "2    3\n",
      "3    4\n",
      "Name: age, dtype: object\n"
     ]
    }
   ],
   "source": [
    "## Type conversions\n",
    "# data.dtypes\n",
    "data = pd.Series([1,2,3,4])\n",
    "data.name='age'\n",
    "print(data)\n",
    "print(data.astype(str) )\n",
    "# data[\"age\"]= data[\"age\"].astype(str) \n",
    "   "
   ]
  },
  {
   "cell_type": "code",
   "execution_count": 39,
   "id": "1b489fe7",
   "metadata": {},
   "outputs": [],
   "source": [
    "def mul_by_2(a, b,c):\n",
    "    print(c)\n",
    "    return a*b"
   ]
  },
  {
   "cell_type": "code",
   "execution_count": 40,
   "id": "a33f304a",
   "metadata": {},
   "outputs": [
    {
     "name": "stdout",
     "output_type": "stream",
     "text": [
      "3\n",
      "3\n",
      "3\n",
      "3\n"
     ]
    },
    {
     "data": {
      "text/plain": [
       "0     4\n",
       "1     8\n",
       "2    12\n",
       "3    16\n",
       "Name: age, dtype: int64"
      ]
     },
     "execution_count": 40,
     "metadata": {},
     "output_type": "execute_result"
    }
   ],
   "source": [
    "data.apply(mul_by_2, args=[4,3])"
   ]
  },
  {
   "cell_type": "code",
   "execution_count": null,
   "id": "7fdc26bc",
   "metadata": {},
   "outputs": [],
   "source": []
  }
 ],
 "metadata": {
  "kernelspec": {
   "display_name": "Python 3 (ipykernel)",
   "language": "python",
   "name": "python3"
  },
  "language_info": {
   "codemirror_mode": {
    "name": "ipython",
    "version": 3
   },
   "file_extension": ".py",
   "mimetype": "text/x-python",
   "name": "python",
   "nbconvert_exporter": "python",
   "pygments_lexer": "ipython3",
   "version": "3.9.12"
  }
 },
 "nbformat": 4,
 "nbformat_minor": 5
}
