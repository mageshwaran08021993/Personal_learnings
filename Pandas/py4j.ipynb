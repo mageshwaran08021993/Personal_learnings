{
 "cells": [
  {
   "cell_type": "code",
   "execution_count": 1,
   "id": "26d3bf24",
   "metadata": {},
   "outputs": [],
   "source": [
    "from py4j.java_gateway import JavaGateway"
   ]
  },
  {
   "cell_type": "code",
   "execution_count": 2,
   "id": "deaadf11",
   "metadata": {},
   "outputs": [],
   "source": [
    "gateway = JavaGateway()"
   ]
  },
  {
   "cell_type": "code",
   "execution_count": 3,
   "id": "dfbde521",
   "metadata": {},
   "outputs": [],
   "source": [
    "stack = gateway.entry_point.getStack()"
   ]
  },
  {
   "cell_type": "code",
   "execution_count": 6,
   "id": "e6d1d787",
   "metadata": {},
   "outputs": [
    {
     "data": {
      "text/plain": [
       "'First item'"
      ]
     },
     "execution_count": 6,
     "metadata": {},
     "output_type": "execute_result"
    }
   ],
   "source": [
    "stack.push(\"First %s\" % ('item'))\n",
    "stack.push(\"Second item\")\n",
    "stack.pop()\n",
    "stack.pop()\n",
    "stack.pop()"
   ]
  },
  {
   "cell_type": "code",
   "execution_count": 7,
   "id": "9e62088d",
   "metadata": {},
   "outputs": [
    {
     "name": "stdout",
     "output_type": "stream",
     "text": [
      "py4j.examples.Stack@34a3f1de\n"
     ]
    }
   ],
   "source": [
    "print(stack)"
   ]
  },
  {
   "cell_type": "code",
   "execution_count": 8,
   "id": "5d4c0e8b",
   "metadata": {},
   "outputs": [
    {
     "data": {
      "text/plain": [
       "'Initial Item'"
      ]
     },
     "execution_count": 8,
     "metadata": {},
     "output_type": "execute_result"
    }
   ],
   "source": [
    "stack.pop()"
   ]
  },
  {
   "cell_type": "code",
   "execution_count": 10,
   "id": "46bdee1e",
   "metadata": {},
   "outputs": [
    {
     "name": "stdout",
     "output_type": "stream",
     "text": [
      "3\n"
     ]
    },
    {
     "data": {
      "text/plain": [
       "['First item', 'First item', 'Second item', 'Second item']"
      ]
     },
     "execution_count": 10,
     "metadata": {},
     "output_type": "execute_result"
    }
   ],
   "source": [
    "stack.push('First item')\n",
    "internal_list = stack.getInternalList()\n",
    "print(len(internal_list))\n",
    "\n",
    "internal_list[0]\n",
    "internal_list.append('Second item')\n",
    "internal_list"
   ]
  },
  {
   "cell_type": "code",
   "execution_count": 12,
   "id": "84c698a2",
   "metadata": {},
   "outputs": [
    {
     "name": "stdout",
     "output_type": "stream",
     "text": [
      "<class 'py4j.java_collections.JavaList'>\n"
     ]
    },
    {
     "data": {
      "text/plain": [
       "[120, 214]"
      ]
     },
     "execution_count": 12,
     "metadata": {},
     "output_type": "execute_result"
    }
   ],
   "source": [
    "java_list = gateway.jvm.java.util.ArrayList()\n",
    "java_list.append(214)\n",
    "java_list.append(120)\n",
    "print(type(java_list))\n",
    "gateway.jvm.java.util.Collections.sort(java_list)\n",
    "java_list"
   ]
  },
  {
   "cell_type": "code",
   "execution_count": 15,
   "id": "ff007e17",
   "metadata": {},
   "outputs": [
    {
     "data": {
      "text/plain": [
       "2"
      ]
     },
     "execution_count": 15,
     "metadata": {},
     "output_type": "execute_result"
    }
   ],
   "source": [
    "gateway = JavaGateway()\n",
    "int_class = gateway.jvm.int\n",
    "int_array = gateway.new_array(int_class,2)\n",
    "int_array[0] = 1\n",
    "int_array[1] = 2\n",
    "int_array[0]\n",
    "int_array[1]"
   ]
  },
  {
   "cell_type": "code",
   "execution_count": 17,
   "id": "c017e1ac",
   "metadata": {},
   "outputs": [
    {
     "name": "stdout",
     "output_type": "stream",
     "text": [
      "Collecting findspark\n",
      "  Using cached findspark-2.0.1-py2.py3-none-any.whl (4.4 kB)\n",
      "Installing collected packages: findspark\n",
      "Successfully installed findspark-2.0.1\n"
     ]
    }
   ],
   "source": [
    "# !pip install findspark\n",
    "import findspark\n",
    "findspark.init()"
   ]
  },
  {
   "cell_type": "code",
   "execution_count": 18,
   "id": "9eeb2834",
   "metadata": {},
   "outputs": [
    {
     "name": "stdout",
     "output_type": "stream",
     "text": [
      "+----+---+\n",
      "|name|age|\n",
      "+----+---+\n",
      "|   a|  1|\n",
      "|   b|  2|\n",
      "|   c|  3|\n",
      "+----+---+\n",
      "\n"
     ]
    }
   ],
   "source": [
    "import pyspark\n",
    "from pyspark.sql import SparkSession\n",
    " \n",
    "spark = SparkSession.builder.getOrCreate()\n",
    " \n",
    "# dict = {\"name\":[\"a\", \"b\", \"c\"], \"age\": [1,2,3]}\n",
    "dict = [(\"a\",1), (\"b\", 2), (\"c\", 3)]\n",
    "df = spark.createDataFrame(dict, [\"name\", \"age\"])\n",
    " \n",
    "df.show()"
   ]
  },
  {
   "cell_type": "code",
   "execution_count": null,
   "id": "a934012c",
   "metadata": {},
   "outputs": [],
   "source": []
  }
 ],
 "metadata": {
  "kernelspec": {
   "display_name": "Python 3",
   "language": "python",
   "name": "python3"
  },
  "language_info": {
   "codemirror_mode": {
    "name": "ipython",
    "version": 3
   },
   "file_extension": ".py",
   "mimetype": "text/x-python",
   "name": "python",
   "nbconvert_exporter": "python",
   "pygments_lexer": "ipython3",
   "version": "3.9.1 (tags/v3.9.1:1e5d33e, Dec  7 2020, 17:08:21) [MSC v.1927 64 bit (AMD64)]"
  },
  "vscode": {
   "interpreter": {
    "hash": "81794d4967e6c3204c66dcd87b604927b115b27c00565d3d43f05ba2f3a2cb0d"
   }
  }
 },
 "nbformat": 4,
 "nbformat_minor": 5
}
