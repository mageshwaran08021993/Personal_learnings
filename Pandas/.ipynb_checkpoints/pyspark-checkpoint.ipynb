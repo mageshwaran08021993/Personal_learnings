{
 "cells": [
  {
   "cell_type": "code",
   "execution_count": 1,
   "id": "916c6b79",
   "metadata": {},
   "outputs": [],
   "source": [
    "# !pip install findspark\n",
    "import findspark\n",
    "findspark.init()\n"
   ]
  },
  {
   "cell_type": "code",
   "execution_count": null,
   "id": "c00b7750",
   "metadata": {},
   "outputs": [],
   "source": [
    "# import os\n",
    "# os.environ[\"SPARK_HOME\"]\n",
    "# os.environ[\"HADOOP_HOME\"]\n",
    "# os.environ[\"JAVA_HOME\"]\n",
    "# # os.environ[\"PYTHON_HOME\"]"
   ]
  },
  {
   "cell_type": "code",
   "execution_count": 2,
   "id": "b25fb02f",
   "metadata": {},
   "outputs": [
    {
     "name": "stdout",
     "output_type": "stream",
     "text": [
      "+----+---+\n",
      "|name|age|\n",
      "+----+---+\n",
      "|   a|  1|\n",
      "|   b|  2|\n",
      "|   c|  3|\n",
      "+----+---+\n",
      "\n"
     ]
    }
   ],
   "source": [
    "import pyspark\n",
    "from pyspark.sql import SparkSession\n",
    " \n",
    "spark = SparkSession.builder.getOrCreate()\n",
    " \n",
    "# dict = {\"name\":[\"a\", \"b\", \"c\"], \"age\": [1,2,3]}\n",
    "dict = [(\"a\",1), (\"b\", 2), (\"c\", 3)]\n",
    "df = spark.createDataFrame(dict, [\"name\", \"age\"])\n",
    " \n",
    "df.show()"
   ]
  },
  {
   "cell_type": "code",
   "execution_count": 20,
   "id": "f36cc505",
   "metadata": {},
   "outputs": [
    {
     "name": "stdout",
     "output_type": "stream",
     "text": [
      "+----+---------+\n",
      "|name|(age * 2)|\n",
      "+----+---------+\n",
      "|   a|        2|\n",
      "|   b|        4|\n",
      "|   c|        6|\n",
      "+----+---------+\n",
      "\n",
      "+----+---------+\n",
      "|name|(age * 2)|\n",
      "+----+---------+\n",
      "|   a|        2|\n",
      "|   b|        4|\n",
      "|   c|        6|\n",
      "+----+---------+\n",
      "\n",
      "+----+---+\n",
      "|name|age|\n",
      "+----+---+\n",
      "|   a|  1|\n",
      "|   b|  2|\n",
      "|   c|  3|\n",
      "+----+---+\n",
      "\n",
      "+----+---+\n",
      "|name|age|\n",
      "+----+---+\n",
      "|   a|  1|\n",
      "|   b|  2|\n",
      "|   c|  3|\n",
      "+----+---+\n",
      "\n"
     ]
    }
   ],
   "source": [
    "from pyspark.sql.functions import *\n",
    "# Expressions\n",
    "df.select(expr(\"name\"), expr(\"age*2\")).show()\n",
    "df.select(\"name\", col(\"age\")*2).show()\n",
    "df.select(col(\"name\"), col(\"age\")).show()\n",
    "df.select(df.name, df.age).show()"
   ]
  },
  {
   "cell_type": "code",
   "execution_count": 23,
   "id": "cbe99953",
   "metadata": {},
   "outputs": [
    {
     "name": "stdout",
     "output_type": "stream",
     "text": [
      "+----+---+\n",
      "|name|age|\n",
      "+----+---+\n",
      "|   b|  2|\n",
      "+----+---+\n",
      "\n",
      "+----+---+\n",
      "|name|age|\n",
      "+----+---+\n",
      "|   b|  2|\n",
      "+----+---+\n",
      "\n",
      "+----+---+\n",
      "|name|age|\n",
      "+----+---+\n",
      "|   b|  2|\n",
      "+----+---+\n",
      "\n"
     ]
    }
   ],
   "source": [
    "df.filter(\"age = 2\").show()\n",
    "df.filter(col(\"age\")==2).show()\n",
    "df.filter(df.age == 2 ).show()"
   ]
  },
  {
   "cell_type": "code",
   "execution_count": 32,
   "id": "db24c969",
   "metadata": {},
   "outputs": [
    {
     "name": "stdout",
     "output_type": "stream",
     "text": [
      "+----+---+\n",
      "|name|age|\n",
      "+----+---+\n",
      "|   a|  1|\n",
      "+----+---+\n",
      "\n"
     ]
    }
   ],
   "source": [
    "# df.filter(\"age = 2 and name = 'b'\").show()\n",
    "# df.filter((col(\"age\")==2) & (col(\"name\")=='b')).show()\n",
    "# df.filter((col(\"age\").startswith('1'))).show()\n",
    "df.filter(expr(\"age like '1%'\")).show()\n",
    "# df.filter(df.age == 2 ).show()"
   ]
  },
  {
   "cell_type": "code",
   "execution_count": null,
   "id": "5bd553a8",
   "metadata": {},
   "outputs": [],
   "source": []
  }
 ],
 "metadata": {
  "kernelspec": {
   "display_name": "Python 3 (ipykernel)",
   "language": "python",
   "name": "python3"
  },
  "language_info": {
   "codemirror_mode": {
    "name": "ipython",
    "version": 3
   },
   "file_extension": ".py",
   "mimetype": "text/x-python",
   "name": "python",
   "nbconvert_exporter": "python",
   "pygments_lexer": "ipython3",
   "version": "3.9.12"
  }
 },
 "nbformat": 4,
 "nbformat_minor": 5
}
